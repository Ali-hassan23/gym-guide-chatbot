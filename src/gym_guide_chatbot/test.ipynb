{
 "cells": [
  {
   "cell_type": "code",
   "execution_count": 17,
   "id": "706a682e",
   "metadata": {},
   "outputs": [],
   "source": [
    "from langchain.document_loaders import PyPDFLoader, DirectoryLoader\n",
    "from langchain.text_splitter import RecursiveCharacterTextSplitter\n",
    "from langchain_community.embeddings import HuggingFaceEmbeddings\n",
    "from dotenv import load_dotenv"
   ]
  },
  {
   "cell_type": "code",
   "execution_count": null,
   "id": "8781a71f",
   "metadata": {},
   "outputs": [],
   "source": [
    "def load_pdf_file(data):\n",
    "    loader = DirectoryLoader(data, glob=\"*.pdf\", loader_cls=PyPDFLoader)\n",
    "    \n",
    "    document = loader.load()\n",
    "    return document"
   ]
  },
  {
   "cell_type": "code",
   "execution_count": 4,
   "id": "3ff68255",
   "metadata": {},
   "outputs": [],
   "source": [
    "extracted_date = load_pdf_file(data=\"../../data/\")"
   ]
  },
  {
   "cell_type": "code",
   "execution_count": 7,
   "id": "deac960b",
   "metadata": {},
   "outputs": [],
   "source": [
    "# extracted_date"
   ]
  },
  {
   "cell_type": "code",
   "execution_count": 8,
   "id": "014a9203",
   "metadata": {},
   "outputs": [],
   "source": [
    "def text_split(extracted_date):\n",
    "    text_splitter = RecursiveCharacterTextSplitter(chunk_size=500, chunk_overlap=30)\n",
    "    chunks = text_splitter.split_documents(extracted_date)\n",
    "    return chunks"
   ]
  },
  {
   "cell_type": "code",
   "execution_count": 9,
   "id": "5591b231",
   "metadata": {},
   "outputs": [
    {
     "name": "stdout",
     "output_type": "stream",
     "text": [
      "Length of chunks =  2310\n"
     ]
    }
   ],
   "source": [
    "chunks = text_split(extracted_date=extracted_date)\n",
    "print(\"Length of chunks = \", len(chunks))"
   ]
  },
  {
   "cell_type": "code",
   "execution_count": 18,
   "id": "233d811f",
   "metadata": {},
   "outputs": [],
   "source": [
    "# chunks"
   ]
  },
  {
   "cell_type": "markdown",
   "id": "fa4e532d",
   "metadata": {},
   "source": [
    "Now Download Model From Hugging Face for Vector Embeddings"
   ]
  },
  {
   "cell_type": "code",
   "execution_count": 8,
   "id": "74edbf59",
   "metadata": {},
   "outputs": [],
   "source": [
    "def download_embedding_model():\n",
    "    embeddings = HuggingFaceEmbeddings(model_name='sentence-transformers/all-MiniLM-L6-v2')\n",
    "    return embeddings"
   ]
  },
  {
   "cell_type": "code",
   "execution_count": 10,
   "id": "6419a09f",
   "metadata": {},
   "outputs": [],
   "source": [
    "embeddings = download_embedding_model()"
   ]
  },
  {
   "cell_type": "code",
   "execution_count": 11,
   "id": "07c30907",
   "metadata": {},
   "outputs": [
    {
     "name": "stdout",
     "output_type": "stream",
     "text": [
      "384\n"
     ]
    }
   ],
   "source": [
    "text = \"Hi Hassan Chest Press\"\n",
    "vector = embeddings.embed_query(text)\n",
    "print(len(vector))"
   ]
  },
  {
   "cell_type": "markdown",
   "id": "459fea4b",
   "metadata": {},
   "source": [
    "Now Create The Vector Database"
   ]
  },
  {
   "cell_type": "code",
   "execution_count": 19,
   "id": "cb474cd5",
   "metadata": {},
   "outputs": [],
   "source": [
    "import os\n",
    "load_dotenv()\n",
    "PINECONE_API_KEY = os.environ.get('PINECONE_API_KEY')"
   ]
  },
  {
   "cell_type": "code",
   "execution_count": 21,
   "id": "40e51a8e",
   "metadata": {},
   "outputs": [
    {
     "data": {
      "text/plain": [
       "{\n",
       "    \"name\": \"gym-chatbot\",\n",
       "    \"metric\": \"cosine\",\n",
       "    \"host\": \"gym-chatbot-mapxah6.svc.aped-4627-b74a.pinecone.io\",\n",
       "    \"spec\": {\n",
       "        \"serverless\": {\n",
       "            \"cloud\": \"aws\",\n",
       "            \"region\": \"us-east-1\"\n",
       "        }\n",
       "    },\n",
       "    \"status\": {\n",
       "        \"ready\": true,\n",
       "        \"state\": \"Ready\"\n",
       "    },\n",
       "    \"vector_type\": \"dense\",\n",
       "    \"dimension\": 384,\n",
       "    \"deletion_protection\": \"disabled\",\n",
       "    \"tags\": null\n",
       "}"
      ]
     },
     "execution_count": 21,
     "metadata": {},
     "output_type": "execute_result"
    }
   ],
   "source": [
    "from pinecone import Pinecone, ServerlessSpec\n",
    "\n",
    "pc = Pinecone(api_key=PINECONE_API_KEY)\n",
    "\n",
    "index_name = \"gym-chatbot\"\n",
    "\n",
    "pc.create_index(\n",
    "    name=index_name,\n",
    "    dimension=384,\n",
    "    metric='cosine',\n",
    "    spec=ServerlessSpec(\n",
    "        cloud='aws',\n",
    "        region='us-east-1'\n",
    "    )\n",
    "    \n",
    ")"
   ]
  },
  {
   "cell_type": "code",
   "execution_count": 27,
   "id": "72f1bc61",
   "metadata": {},
   "outputs": [],
   "source": [
    "import re\n",
    "\n",
    "def clean_text(text):\n",
    "    # Replace tabs and multiple spaces/newlines with a single space\n",
    "    return re.sub(r'\\s+', ' ', text).strip()"
   ]
  },
  {
   "cell_type": "code",
   "execution_count": 28,
   "id": "0f5e6c8a",
   "metadata": {},
   "outputs": [],
   "source": [
    "for doc in chunks:\n",
    "    doc.page_content = clean_text(doc.page_content)"
   ]
  },
  {
   "cell_type": "code",
   "execution_count": 31,
   "id": "da984285",
   "metadata": {},
   "outputs": [],
   "source": [
    "# chunks"
   ]
  },
  {
   "cell_type": "code",
   "execution_count": 2,
   "id": "3fe6e0a3",
   "metadata": {},
   "outputs": [
    {
     "name": "stderr",
     "output_type": "stream",
     "text": [
      "d:\\GenAI\\Chatbots\\gym-guide-chatbot\\venv\\Lib\\site-packages\\tqdm\\auto.py:21: TqdmWarning: IProgress not found. Please update jupyter and ipywidgets. See https://ipywidgets.readthedocs.io/en/stable/user_install.html\n",
      "  from .autonotebook import tqdm as notebook_tqdm\n"
     ]
    },
    {
     "ename": "KeyboardInterrupt",
     "evalue": "",
     "output_type": "error",
     "traceback": [
      "\u001b[31m---------------------------------------------------------------------------\u001b[39m",
      "\u001b[31mKeyboardInterrupt\u001b[39m                         Traceback (most recent call last)",
      "\u001b[36mCell\u001b[39m\u001b[36m \u001b[39m\u001b[32mIn[2]\u001b[39m\u001b[32m, line 1\u001b[39m\n\u001b[32m----> \u001b[39m\u001b[32m1\u001b[39m \u001b[38;5;28;01mfrom\u001b[39;00m\u001b[38;5;250m \u001b[39m\u001b[34;01mlangchain_pinecone\u001b[39;00m\u001b[38;5;250m \u001b[39m\u001b[38;5;28;01mimport\u001b[39;00m PineconeVectorStore\n\u001b[32m      3\u001b[39m vector_embeddings = PineconeVectorStore.from_documents(\n\u001b[32m      4\u001b[39m     index_name=index_name,\n\u001b[32m      5\u001b[39m     documents=chunks,\n\u001b[32m      6\u001b[39m     embedding=embeddings\n\u001b[32m      7\u001b[39m )\n",
      "\u001b[36mFile \u001b[39m\u001b[32md:\\GenAI\\Chatbots\\gym-guide-chatbot\\venv\\Lib\\site-packages\\langchain_pinecone\\__init__.py:1\u001b[39m\n\u001b[32m----> \u001b[39m\u001b[32m1\u001b[39m \u001b[38;5;28;01mfrom\u001b[39;00m\u001b[38;5;250m \u001b[39m\u001b[34;01mlangchain_pinecone\u001b[39;00m\u001b[34;01m.\u001b[39;00m\u001b[34;01membeddings\u001b[39;00m\u001b[38;5;250m \u001b[39m\u001b[38;5;28;01mimport\u001b[39;00m PineconeEmbeddings, PineconeSparseEmbeddings\n\u001b[32m      2\u001b[39m \u001b[38;5;28;01mfrom\u001b[39;00m\u001b[38;5;250m \u001b[39m\u001b[34;01mlangchain_pinecone\u001b[39;00m\u001b[34;01m.\u001b[39;00m\u001b[34;01mrerank\u001b[39;00m\u001b[38;5;250m \u001b[39m\u001b[38;5;28;01mimport\u001b[39;00m PineconeRerank\n\u001b[32m      3\u001b[39m \u001b[38;5;28;01mfrom\u001b[39;00m\u001b[38;5;250m \u001b[39m\u001b[34;01mlangchain_pinecone\u001b[39;00m\u001b[34;01m.\u001b[39;00m\u001b[34;01mvectorstores\u001b[39;00m\u001b[38;5;250m \u001b[39m\u001b[38;5;28;01mimport\u001b[39;00m Pinecone, PineconeVectorStore\n",
      "\u001b[36mFile \u001b[39m\u001b[32md:\\GenAI\\Chatbots\\gym-guide-chatbot\\venv\\Lib\\site-packages\\langchain_pinecone\\embeddings.py:10\u001b[39m\n\u001b[32m      6\u001b[39m \u001b[38;5;28;01mfrom\u001b[39;00m\u001b[38;5;250m \u001b[39m\u001b[34;01mpinecone\u001b[39;00m\u001b[38;5;250m \u001b[39m\u001b[38;5;28;01mimport\u001b[39;00m Pinecone \u001b[38;5;28;01mas\u001b[39;00m PineconeClient  \u001b[38;5;66;03m# type: ignore[import-untyped]\u001b[39;00m\n\u001b[32m      7\u001b[39m \u001b[38;5;28;01mfrom\u001b[39;00m\u001b[38;5;250m \u001b[39m\u001b[34;01mpinecone\u001b[39;00m\u001b[38;5;250m \u001b[39m\u001b[38;5;28;01mimport\u001b[39;00m (\n\u001b[32m      8\u001b[39m     PineconeAsyncio \u001b[38;5;28;01mas\u001b[39;00m PineconeAsyncioClient,  \u001b[38;5;66;03m# type: ignore[import-untyped]\u001b[39;00m\n\u001b[32m      9\u001b[39m )\n\u001b[32m---> \u001b[39m\u001b[32m10\u001b[39m \u001b[38;5;28;01mfrom\u001b[39;00m\u001b[38;5;250m \u001b[39m\u001b[34;01mpinecone\u001b[39;00m\u001b[38;5;250m \u001b[39m\u001b[38;5;28;01mimport\u001b[39;00m SparseValues\n\u001b[32m     12\u001b[39m \u001b[38;5;66;03m# Conditional import for EmbeddingsList based on Pinecone version\u001b[39;00m\n\u001b[32m     13\u001b[39m \u001b[38;5;28;01mtry\u001b[39;00m:\n",
      "\u001b[36mFile \u001b[39m\u001b[32m<frozen importlib._bootstrap>:1412\u001b[39m, in \u001b[36m_handle_fromlist\u001b[39m\u001b[34m(module, fromlist, import_, recursive)\u001b[39m\n",
      "\u001b[36mFile \u001b[39m\u001b[32md:\\GenAI\\Chatbots\\gym-guide-chatbot\\venv\\Lib\\site-packages\\pinecone\\utils\\lazy_imports.py:61\u001b[39m, in \u001b[36mLazyModule.__getattr__\u001b[39m\u001b[34m(self, name)\u001b[39m\n\u001b[32m     59\u001b[39m \u001b[38;5;28;01mif\u001b[39;00m name \u001b[38;5;129;01mnot\u001b[39;00m \u001b[38;5;129;01min\u001b[39;00m \u001b[38;5;28mself\u001b[39m._loaded_attrs:\n\u001b[32m     60\u001b[39m     module_path, item_name = \u001b[38;5;28mself\u001b[39m._lazy_imports[name]\n\u001b[32m---> \u001b[39m\u001b[32m61\u001b[39m     module = \u001b[43mimportlib\u001b[49m\u001b[43m.\u001b[49m\u001b[43mimport_module\u001b[49m\u001b[43m(\u001b[49m\u001b[43mmodule_path\u001b[49m\u001b[43m)\u001b[49m\n\u001b[32m     62\u001b[39m     \u001b[38;5;28mself\u001b[39m._loaded_attrs[name] = \u001b[38;5;28mgetattr\u001b[39m(module, item_name)\n\u001b[32m     63\u001b[39m \u001b[38;5;28;01mreturn\u001b[39;00m \u001b[38;5;28mself\u001b[39m._loaded_attrs[name]\n",
      "\u001b[36mFile \u001b[39m\u001b[32mC:\\Python312\\Lib\\importlib\\__init__.py:90\u001b[39m, in \u001b[36mimport_module\u001b[39m\u001b[34m(name, package)\u001b[39m\n\u001b[32m     88\u001b[39m             \u001b[38;5;28;01mbreak\u001b[39;00m\n\u001b[32m     89\u001b[39m         level += \u001b[32m1\u001b[39m\n\u001b[32m---> \u001b[39m\u001b[32m90\u001b[39m \u001b[38;5;28;01mreturn\u001b[39;00m \u001b[43m_bootstrap\u001b[49m\u001b[43m.\u001b[49m\u001b[43m_gcd_import\u001b[49m\u001b[43m(\u001b[49m\u001b[43mname\u001b[49m\u001b[43m[\u001b[49m\u001b[43mlevel\u001b[49m\u001b[43m:\u001b[49m\u001b[43m]\u001b[49m\u001b[43m,\u001b[49m\u001b[43m \u001b[49m\u001b[43mpackage\u001b[49m\u001b[43m,\u001b[49m\u001b[43m \u001b[49m\u001b[43mlevel\u001b[49m\u001b[43m)\u001b[49m\n",
      "\u001b[36mFile \u001b[39m\u001b[32md:\\GenAI\\Chatbots\\gym-guide-chatbot\\venv\\Lib\\site-packages\\pinecone\\db_data\\__init__.py:1\u001b[39m\n\u001b[32m----> \u001b[39m\u001b[32m1\u001b[39m \u001b[38;5;28;01mfrom\u001b[39;00m\u001b[38;5;250m \u001b[39m\u001b[34;01m.\u001b[39;00m\u001b[34;01mindex\u001b[39;00m\u001b[38;5;250m \u001b[39m\u001b[38;5;28;01mimport\u001b[39;00m (\n\u001b[32m      2\u001b[39m     Index,\n\u001b[32m      3\u001b[39m     FetchResponse,\n\u001b[32m      4\u001b[39m     QueryResponse,\n\u001b[32m      5\u001b[39m     DescribeIndexStatsResponse,\n\u001b[32m      6\u001b[39m     UpsertResponse,\n\u001b[32m      7\u001b[39m     SparseValues,\n\u001b[32m      8\u001b[39m     Vector,\n\u001b[32m      9\u001b[39m )\n\u001b[32m     11\u001b[39m \u001b[38;5;28;01mfrom\u001b[39;00m\u001b[38;5;250m \u001b[39m\u001b[34;01m.\u001b[39;00m\u001b[34;01mdataclasses\u001b[39;00m\u001b[38;5;250m \u001b[39m\u001b[38;5;28;01mimport\u001b[39;00m *\n\u001b[32m     12\u001b[39m \u001b[38;5;28;01mfrom\u001b[39;00m\u001b[38;5;250m \u001b[39m\u001b[34;01m.\u001b[39;00m\u001b[34;01mindex_asyncio\u001b[39;00m\u001b[38;5;250m \u001b[39m\u001b[38;5;28;01mimport\u001b[39;00m *\n",
      "\u001b[36mFile \u001b[39m\u001b[32md:\\GenAI\\Chatbots\\gym-guide-chatbot\\venv\\Lib\\site-packages\\pinecone\\db_data\\index.py:10\u001b[39m\n\u001b[32m      7\u001b[39m \u001b[38;5;28;01mfrom\u001b[39;00m\u001b[38;5;250m \u001b[39m\u001b[34;01mpinecone\u001b[39;00m\u001b[34;01m.\u001b[39;00m\u001b[34;01mconfig\u001b[39;00m\u001b[38;5;250m \u001b[39m\u001b[38;5;28;01mimport\u001b[39;00m ConfigBuilder\n\u001b[32m      9\u001b[39m \u001b[38;5;28;01mfrom\u001b[39;00m\u001b[38;5;250m \u001b[39m\u001b[34;01mpinecone\u001b[39;00m\u001b[34;01m.\u001b[39;00m\u001b[34;01mopenapi_support\u001b[39;00m\u001b[38;5;250m \u001b[39m\u001b[38;5;28;01mimport\u001b[39;00m ApiClient\n\u001b[32m---> \u001b[39m\u001b[32m10\u001b[39m \u001b[38;5;28;01mfrom\u001b[39;00m\u001b[38;5;250m \u001b[39m\u001b[34;01mpinecone\u001b[39;00m\u001b[34;01m.\u001b[39;00m\u001b[34;01mcore\u001b[39;00m\u001b[34;01m.\u001b[39;00m\u001b[34;01mopenapi\u001b[39;00m\u001b[34;01m.\u001b[39;00m\u001b[34;01mdb_data\u001b[39;00m\u001b[34;01m.\u001b[39;00m\u001b[34;01mapi\u001b[39;00m\u001b[34;01m.\u001b[39;00m\u001b[34;01mvector_operations_api\u001b[39;00m\u001b[38;5;250m \u001b[39m\u001b[38;5;28;01mimport\u001b[39;00m VectorOperationsApi\n\u001b[32m     11\u001b[39m \u001b[38;5;28;01mfrom\u001b[39;00m\u001b[38;5;250m \u001b[39m\u001b[34;01mpinecone\u001b[39;00m\u001b[34;01m.\u001b[39;00m\u001b[34;01mcore\u001b[39;00m\u001b[34;01m.\u001b[39;00m\u001b[34;01mopenapi\u001b[39;00m\u001b[34;01m.\u001b[39;00m\u001b[34;01mdb_data\u001b[39;00m\u001b[38;5;250m \u001b[39m\u001b[38;5;28;01mimport\u001b[39;00m API_VERSION\n\u001b[32m     12\u001b[39m \u001b[38;5;28;01mfrom\u001b[39;00m\u001b[38;5;250m \u001b[39m\u001b[34;01mpinecone\u001b[39;00m\u001b[34;01m.\u001b[39;00m\u001b[34;01mcore\u001b[39;00m\u001b[34;01m.\u001b[39;00m\u001b[34;01mopenapi\u001b[39;00m\u001b[34;01m.\u001b[39;00m\u001b[34;01mdb_data\u001b[39;00m\u001b[34;01m.\u001b[39;00m\u001b[34;01mmodels\u001b[39;00m\u001b[38;5;250m \u001b[39m\u001b[38;5;28;01mimport\u001b[39;00m (\n\u001b[32m     13\u001b[39m     QueryResponse,\n\u001b[32m     14\u001b[39m     IndexDescription \u001b[38;5;28;01mas\u001b[39;00m DescribeIndexStatsResponse,\n\u001b[32m   (...)\u001b[39m\u001b[32m     19\u001b[39m     NamespaceDescription,\n\u001b[32m     20\u001b[39m )\n",
      "\u001b[36mFile \u001b[39m\u001b[32md:\\GenAI\\Chatbots\\gym-guide-chatbot\\venv\\Lib\\site-packages\\pinecone\\core\\openapi\\db_data\\api\\vector_operations_api.py:40\u001b[39m\n\u001b[32m     38\u001b[39m \u001b[38;5;28;01mfrom\u001b[39;00m\u001b[38;5;250m \u001b[39m\u001b[34;01mpinecone\u001b[39;00m\u001b[34;01m.\u001b[39;00m\u001b[34;01mcore\u001b[39;00m\u001b[34;01m.\u001b[39;00m\u001b[34;01mopenapi\u001b[39;00m\u001b[34;01m.\u001b[39;00m\u001b[34;01mdb_data\u001b[39;00m\u001b[34;01m.\u001b[39;00m\u001b[34;01mmodel\u001b[39;00m\u001b[34;01m.\u001b[39;00m\u001b[34;01mupdate_request\u001b[39;00m\u001b[38;5;250m \u001b[39m\u001b[38;5;28;01mimport\u001b[39;00m UpdateRequest\n\u001b[32m     39\u001b[39m \u001b[38;5;28;01mfrom\u001b[39;00m\u001b[38;5;250m \u001b[39m\u001b[34;01mpinecone\u001b[39;00m\u001b[34;01m.\u001b[39;00m\u001b[34;01mcore\u001b[39;00m\u001b[34;01m.\u001b[39;00m\u001b[34;01mopenapi\u001b[39;00m\u001b[34;01m.\u001b[39;00m\u001b[34;01mdb_data\u001b[39;00m\u001b[34;01m.\u001b[39;00m\u001b[34;01mmodel\u001b[39;00m\u001b[34;01m.\u001b[39;00m\u001b[34;01mupsert_record\u001b[39;00m\u001b[38;5;250m \u001b[39m\u001b[38;5;28;01mimport\u001b[39;00m UpsertRecord\n\u001b[32m---> \u001b[39m\u001b[32m40\u001b[39m \u001b[38;5;28;01mfrom\u001b[39;00m\u001b[38;5;250m \u001b[39m\u001b[34;01mpinecone\u001b[39;00m\u001b[34;01m.\u001b[39;00m\u001b[34;01mcore\u001b[39;00m\u001b[34;01m.\u001b[39;00m\u001b[34;01mopenapi\u001b[39;00m\u001b[34;01m.\u001b[39;00m\u001b[34;01mdb_data\u001b[39;00m\u001b[34;01m.\u001b[39;00m\u001b[34;01mmodel\u001b[39;00m\u001b[34;01m.\u001b[39;00m\u001b[34;01mupsert_request\u001b[39;00m\u001b[38;5;250m \u001b[39m\u001b[38;5;28;01mimport\u001b[39;00m UpsertRequest\n\u001b[32m     41\u001b[39m \u001b[38;5;28;01mfrom\u001b[39;00m\u001b[38;5;250m \u001b[39m\u001b[34;01mpinecone\u001b[39;00m\u001b[34;01m.\u001b[39;00m\u001b[34;01mcore\u001b[39;00m\u001b[34;01m.\u001b[39;00m\u001b[34;01mopenapi\u001b[39;00m\u001b[34;01m.\u001b[39;00m\u001b[34;01mdb_data\u001b[39;00m\u001b[34;01m.\u001b[39;00m\u001b[34;01mmodel\u001b[39;00m\u001b[34;01m.\u001b[39;00m\u001b[34;01mupsert_response\u001b[39;00m\u001b[38;5;250m \u001b[39m\u001b[38;5;28;01mimport\u001b[39;00m UpsertResponse\n\u001b[32m     44\u001b[39m \u001b[38;5;28;01mclass\u001b[39;00m\u001b[38;5;250m \u001b[39m\u001b[34;01mVectorOperationsApi\u001b[39;00m:\n",
      "\u001b[36mFile \u001b[39m\u001b[32m<frozen importlib._bootstrap>:1360\u001b[39m, in \u001b[36m_find_and_load\u001b[39m\u001b[34m(name, import_)\u001b[39m\n",
      "\u001b[36mFile \u001b[39m\u001b[32m<frozen importlib._bootstrap>:1322\u001b[39m, in \u001b[36m_find_and_load_unlocked\u001b[39m\u001b[34m(name, import_)\u001b[39m\n",
      "\u001b[36mFile \u001b[39m\u001b[32m<frozen importlib._bootstrap>:1262\u001b[39m, in \u001b[36m_find_spec\u001b[39m\u001b[34m(name, path, target)\u001b[39m\n",
      "\u001b[36mFile \u001b[39m\u001b[32m<frozen importlib._bootstrap_external>:1528\u001b[39m, in \u001b[36mfind_spec\u001b[39m\u001b[34m(cls, fullname, path, target)\u001b[39m\n",
      "\u001b[36mFile \u001b[39m\u001b[32m<frozen importlib._bootstrap_external>:1502\u001b[39m, in \u001b[36m_get_spec\u001b[39m\u001b[34m(cls, fullname, path, target)\u001b[39m\n",
      "\u001b[36mFile \u001b[39m\u001b[32m<frozen importlib._bootstrap_external>:1634\u001b[39m, in \u001b[36mfind_spec\u001b[39m\u001b[34m(self, fullname, target)\u001b[39m\n",
      "\u001b[36mFile \u001b[39m\u001b[32m<frozen importlib._bootstrap_external>:161\u001b[39m, in \u001b[36m_path_isfile\u001b[39m\u001b[34m(path)\u001b[39m\n",
      "\u001b[36mFile \u001b[39m\u001b[32m<frozen importlib._bootstrap_external>:153\u001b[39m, in \u001b[36m_path_is_mode_type\u001b[39m\u001b[34m(path, mode)\u001b[39m\n",
      "\u001b[36mFile \u001b[39m\u001b[32m<frozen importlib._bootstrap_external>:147\u001b[39m, in \u001b[36m_path_stat\u001b[39m\u001b[34m(path)\u001b[39m\n",
      "\u001b[31mKeyboardInterrupt\u001b[39m: "
     ]
    }
   ],
   "source": [
    "from langchain_pinecone import PineconeVectorStore\n",
    "\n",
    "vector_embeddings = PineconeVectorStore.from_documents(\n",
    "    index_name=index_name,\n",
    "    documents=chunks,\n",
    "    embedding=embeddings\n",
    ")"
   ]
  },
  {
   "cell_type": "markdown",
   "id": "f9f8e029",
   "metadata": {},
   "source": [
    "Now Create your query and create it into vector and search for it in pinecone db"
   ]
  },
  {
   "cell_type": "code",
   "execution_count": 12,
   "id": "2b95a045",
   "metadata": {},
   "outputs": [
    {
     "data": {
      "text/plain": [
       "<langchain_pinecone.vectorstores.PineconeVectorStore at 0x24a2f48ee10>"
      ]
     },
     "execution_count": 12,
     "metadata": {},
     "output_type": "execute_result"
    }
   ],
   "source": [
    "from langchain_pinecone import PineconeVectorStore\n",
    "\n",
    "index_name = \"gym-chatbot\"\n",
    "\n",
    "docSearch = PineconeVectorStore.from_existing_index(\n",
    "    index_name=index_name,\n",
    "    embedding=embeddings\n",
    ")\n",
    "\n",
    "docSearch"
   ]
  },
  {
   "cell_type": "code",
   "execution_count": 13,
   "id": "7b4b0155",
   "metadata": {},
   "outputs": [],
   "source": [
    "retreiver = docSearch.as_retriever(search_type=\"similarity\", search_kwargs={\"k\":3})\n"
   ]
  },
  {
   "cell_type": "code",
   "execution_count": 15,
   "id": "c9e0fe88",
   "metadata": {},
   "outputs": [
    {
     "data": {
      "text/plain": [
       "[Document(id='a7f378fd-9a3f-4a0a-90ba-56206d8f7b92', metadata={'author': 'Jim Stoppani', 'creationdate': '2019-03-21T00:47:55+00:00', 'creator': 'calibre 3.39.1 [https://calibre-ebook.com]', 'page': 1023.0, 'page_label': '1024', 'producer': 'calibre 3.39.1 [https://calibre-ebook.com]', 'source': '..\\\\..\\\\data\\\\gym-guide.pdf', 'title': \"Jim Stoppani\\\\'s Encyclopedia of Muscle \\\\& Strength - PDFDrive.com\", 'total_pages': 1173.0}, page_content='participants’ baseline intake or increase protein intake by at least 50 percent of that consumed by the lower-protein group or control group, then high protein intake does lead to significant gains in lean muscle mass and muscle strength. The bottom line is that eating a higher-protein diet is effective for gaining more muscle and increasing muscle strength. Shoot for 1 to 1.5 grams of protein per pound of body weight for optimal results. Goal 2: Get Ample Fat'),\n",
       " Document(id='8e2d8786-c36c-4c98-a069-9bfcbe9830e4', metadata={'author': 'Jim Stoppani', 'creationdate': '2019-03-21T00:47:55+00:00', 'creator': 'calibre 3.39.1 [https://calibre-ebook.com]', 'page': 1022.0, 'page_label': '1023', 'producer': 'calibre 3.39.1 [https://calibre-ebook.com]', 'source': '..\\\\..\\\\data\\\\gym-guide.pdf', 'title': \"Jim Stoppani\\\\'s Encyclopedia of Muscle \\\\& Strength - PDFDrive.com\", 'total_pages': 1173.0}, page_content='Several studies support the notion that getting up to 1.5 grams of protein per pound of body weight is effective for producing better gains in muscle mass. Victoria University (Australia) researchers had weight-trained men consume about 1.5 grams of protein per pound of body weight per day or 0.75 gram of protein per pound during an 11-week weight training program (Cribb et al. 2007). The higher protein intake was achieved by supplementing with whey'),\n",
       " Document(id='ae9ec580-f501-4835-b7c5-ee6ebc8a644e', metadata={'author': 'Jim Stoppani', 'creationdate': '2019-03-21T00:47:55+00:00', 'creator': 'calibre 3.39.1 [https://calibre-ebook.com]', 'page': 1022.0, 'page_label': '1023', 'producer': 'calibre 3.39.1 [https://calibre-ebook.com]', 'source': '..\\\\..\\\\data\\\\gym-guide.pdf', 'title': \"Jim Stoppani\\\\'s Encyclopedia of Muscle \\\\& Strength - PDFDrive.com\", 'total_pages': 1173.0}, page_content='growth or strength gains. A review study (Bosse and Dixon 2012) on protein intake and strength training finally gives us an answer to why some studies show that higher protein intakes produce better gains in muscle mass and strength and why others show that it doesn’t. Many studies do not show a benefit of increased protein intake because protein intake was not increased enough from their baseline diets or protein intake was not increased enough compared to the lower-protein group. However,')]"
      ]
     },
     "execution_count": 15,
     "metadata": {},
     "output_type": "execute_result"
    }
   ],
   "source": [
    "retreived_data = retreiver.invoke(\"What to eat to gain protein\")\n",
    "retreived_data"
   ]
  },
  {
   "cell_type": "markdown",
   "id": "23f7c71c",
   "metadata": {},
   "source": [
    "Now Lets work on the LLM"
   ]
  },
  {
   "cell_type": "code",
   "execution_count": 31,
   "id": "37dbb8ce",
   "metadata": {},
   "outputs": [
    {
     "name": "stdout",
     "output_type": "stream",
     "text": [
      "For a starting point, a sample diet plan for those weighing between 160 to 200 pounds can be followed. It's important to modify the macronutrients and calories based on your body weight if you weigh significantly less or more than this range. Additionally, you can refer to Chapter 28: Nutrition for Maximizing Fat Loss in the book \"Jim Stoppani's Encyclopedia of Muscle & Strength\" for more detailed information on sample meal plans and steps to follow for an effective diet plan.\n"
     ]
    }
   ],
   "source": [
    "from langchain_openai import ChatOpenAI\n",
    "from langchain_core.prompts import ChatPromptTemplate\n",
    "from langchain.schema.output_parser import StrOutputParser\n",
    "from langchain.chains import create_retrieval_chain\n",
    "from langchain.chains.combine_documents import create_stuff_documents_chain\n",
    "from dotenv import load_dotenv\n",
    "\n",
    "load_dotenv()\n",
    "\n",
    "llm = ChatOpenAI(model=\"gpt-3.5-turbo\")\n",
    "\n",
    "input = \"Suggest me a diet plan\"\n",
    "context = retreiver.invoke(input)\n",
    "\n",
    "prompt = ChatPromptTemplate.from_messages([\n",
    "    (\"system\", \"You are a trained gym trainer who can provide information.\"\n",
    "     \"Use the chunks you recieve to answe the questions asked.\"\n",
    "     \"If something unrelated is asked from you just say something like I am a gym trainer. I don't know much about it. Sorry can't help\"\n",
    "     \"Your first priority is to answer from the chunks {context}.\"),\n",
    "    (\"user\", \"{input}\")\n",
    "])\n",
    "\n",
    "\n",
    "chain = prompt | llm | StrOutputParser()\n",
    "response = chain.invoke({\"context\" : context, \"input\": input})\n",
    "\n",
    "print(response)"
   ]
  }
 ],
 "metadata": {
  "kernelspec": {
   "display_name": "venv (3.12.6)",
   "language": "python",
   "name": "python3"
  },
  "language_info": {
   "codemirror_mode": {
    "name": "ipython",
    "version": 3
   },
   "file_extension": ".py",
   "mimetype": "text/x-python",
   "name": "python",
   "nbconvert_exporter": "python",
   "pygments_lexer": "ipython3",
   "version": "3.12.6"
  }
 },
 "nbformat": 4,
 "nbformat_minor": 5
}
